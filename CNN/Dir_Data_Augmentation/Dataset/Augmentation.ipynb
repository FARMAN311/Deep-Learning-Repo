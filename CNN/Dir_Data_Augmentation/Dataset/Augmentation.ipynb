{
 "cells": [
  {
   "cell_type": "code",
   "execution_count": 2,
   "metadata": {},
   "outputs": [],
   "source": [
    "import shutil\n",
    "import os\n",
    "import numpy as np\n",
    "import random\n",
    "import tensorflow as tf\n",
    "from tensorflow import keras\n",
    "from tensorflow.keras.preprocessing.image import ImageDataGenerator"
   ]
  },
  {
   "cell_type": "code",
   "execution_count": 24,
   "metadata": {},
   "outputs": [],
   "source": [
    "train_dir = 'Dataset/training'\n",
    "validation_dir = 'Datasets/validation/'"
   ]
  },
  {
   "cell_type": "code",
   "execution_count": 9,
   "metadata": {},
   "outputs": [],
   "source": [
    "os.makedirs(validation_dir,exist_ok=True)"
   ]
  },
  {
   "cell_type": "code",
   "execution_count": 27,
   "metadata": {},
   "outputs": [
    {
     "data": {
      "text/plain": [
       "['airplanes',\n",
       " 'bear',\n",
       " 'calculator',\n",
       " 'computer-monitor',\n",
       " 'fireworks',\n",
       " 'galaxy',\n",
       " 'grand-piano',\n",
       " 'kangaroo',\n",
       " 'laptop',\n",
       " 'lightbulb',\n",
       " 'lightning',\n",
       " 'mountain-bike',\n",
       " 'owl',\n",
       " 'school-bus',\n",
       " 'sheet-music',\n",
       " 'skyscraper',\n",
       " 'sword',\n",
       " 't-shirt',\n",
       " 'waterfall',\n",
       " 'wine-bottle']"
      ]
     },
     "execution_count": 27,
     "metadata": {},
     "output_type": "execute_result"
    }
   ],
   "source": [
    "\n",
    "os.listdir('C:/Users/windows 10/Desktop/Deep_learning_NED/CNN/Dir_Data_Augmentation/Dataset/Datasets/training')"
   ]
  },
  {
   "cell_type": "code",
   "execution_count": 32,
   "metadata": {},
   "outputs": [
    {
     "name": "stdout",
     "output_type": "stream",
     "text": [
      "C:/Users/windows 10/Desktop/Deep_learning_NED/CNN/Dir_Data_Augmentation/Dataset/Datasets/training\n",
      "C:/Users/windows 10/Desktop/Deep_learning_NED/CNN/Dir_Data_Augmentation/Dataset/Datasets/validation\n"
     ]
    }
   ],
   "source": [
    "train_dir = r'C:\\Users\\windows 10\\Desktop\\Deep_learning_NED\\CNN\\Dir_Data_Augmentation\\Dataset\\Datasets\\training'\n",
    "train_dir = train_dir.replace('\\\\','/')\n",
    "validation_dir = r'C:\\Users\\windows 10\\Desktop\\Deep_learning_NED\\CNN\\Dir_Data_Augmentation\\Dataset\\Datasets\\validation'\n",
    "validation_dir = validation_dir.replace('\\\\','/')\n",
    "print(train_dir)\n",
    "print(validation_dir)"
   ]
  },
  {
   "cell_type": "code",
   "execution_count": 33,
   "metadata": {},
   "outputs": [],
   "source": [
    "\n",
    "# Create validation folder if not exist\n",
    "os.makedirs(validation_dir, exist_ok=True)\n",
    "\n",
    "# Go through each category folder\n",
    "for category in os.listdir(train_dir):\n",
    "    category_path = os.path.join(train_dir, category)\n",
    "    if os.path.isdir(category_path):\n",
    "        images = os.listdir(category_path)\n",
    "        random.shuffle(images)\n",
    "        validation_count = int(len(images) * 0.2)  # 20% of the images\n",
    "\n",
    "        validation_category_dir = os.path.join(validation_dir, category)\n",
    "        os.makedirs(validation_category_dir, exist_ok=True)\n",
    "\n",
    "        for image in images[:validation_count]:\n",
    "            # Move file to validation folder\n",
    "            shutil.move(os.path.join(category_path, image), validation_category_dir)"
   ]
  },
  {
   "cell_type": "code",
   "execution_count": 34,
   "metadata": {},
   "outputs": [
    {
     "name": "stdout",
     "output_type": "stream",
     "text": [
      "Found 1247 images belonging to 20 classes.\n",
      "Found 307 images belonging to 20 classes.\n"
     ]
    }
   ],
   "source": [
    "batch_size = 16\n",
    "\n",
    "trian_datagen = ImageDataGenerator(\n",
    "    rescale =1./255,\n",
    "    shear_range = 0.2,\n",
    "    zoom_range = 0.2,\n",
    "    horizontal_flip = True)\n",
    "test_datagen = ImageDataGenerator(rescale=1./255)\n",
    "\n",
    "train_generator = trian_datagen.flow_from_directory(\n",
    "    train_dir,\n",
    "    target_size = (150,150),\n",
    "    batch_size = batch_size,\n",
    "    class_mode = 'categorical')\n",
    "\n",
    "validation_generator = test_datagen.flow_from_directory(\n",
    "    validation_dir,\n",
    "    target_size = (150,150),\n",
    "    batch_size = batch_size,\n",
    "    class_mode = 'categorical')\n"
   ]
  },
  {
   "cell_type": "code",
   "execution_count": 38,
   "metadata": {},
   "outputs": [],
   "source": [
    "from tensorflow.keras.models import Sequential\n",
    "from tensorflow.keras.layers import Dense,Conv2D,Flatten,Dropout,BatchNormalization,MaxPooling2D,Activation"
   ]
  },
  {
   "cell_type": "code",
   "execution_count": 39,
   "metadata": {},
   "outputs": [
    {
     "name": "stderr",
     "output_type": "stream",
     "text": [
      "c:\\Users\\windows 10\\AppData\\Local\\Programs\\Python\\Python312\\Lib\\site-packages\\keras\\src\\layers\\convolutional\\base_conv.py:107: UserWarning: Do not pass an `input_shape`/`input_dim` argument to a layer. When using Sequential models, prefer using an `Input(shape)` object as the first layer in the model instead.\n",
      "  super().__init__(activity_regularizer=activity_regularizer, **kwargs)\n"
     ]
    }
   ],
   "source": [
    "model = Sequential()\n",
    "\n",
    "model.add(Conv2D(32,(3,3),input_shape=(150,150,3)))\n",
    "model.add(Activation('relu'))\n",
    "model.add(MaxPooling2D(pool_size=(2,2)))\n",
    "\n",
    "model.add(Conv2D(32,(3,3)))\n",
    "model.add(Activation('relu'))\n",
    "model.add(MaxPooling2D(pool_size=(2,2)))\n",
    "\n",
    "model.add(Conv2D(32,(3,3)))\n",
    "model.add(Activation('relu'))\n",
    "model.add(MaxPooling2D(pool_size=(2,2)))\n",
    "\n",
    "model.add(Flatten())\n",
    "model.add(Dense(64))\n",
    "model.add(Activation('relu'))\n",
    "model.add(Dropout(0.5))\n",
    "model.add(Dense(20))\n",
    "model.add(Activation('softmax'))"
   ]
  },
  {
   "cell_type": "code",
   "execution_count": 40,
   "metadata": {},
   "outputs": [],
   "source": [
    "model.compile(loss='categorical_crossentropy',optimizer='adam',metrics=['accuracy'])"
   ]
  },
  {
   "cell_type": "code",
   "execution_count": null,
   "metadata": {},
   "outputs": [],
   "source": [
    "model.fit_generator(\n",
    "    train_generator,\n",
    "    steps_per_epoch = 1247 // batch_size,\n",
    "    epochs = 20,\n",
    "    validation_data = validation_generator,\n",
    "    validation_steps = 800 // batch_size\n",
    ")"
   ]
  },
  {
   "cell_type": "code",
   "execution_count": null,
   "metadata": {},
   "outputs": [],
   "source": []
  }
 ],
 "metadata": {
  "kernelspec": {
   "display_name": "Python 3",
   "language": "python",
   "name": "python3"
  },
  "language_info": {
   "codemirror_mode": {
    "name": "ipython",
    "version": 3
   },
   "file_extension": ".py",
   "mimetype": "text/x-python",
   "name": "python",
   "nbconvert_exporter": "python",
   "pygments_lexer": "ipython3",
   "version": "3.12.1"
  }
 },
 "nbformat": 4,
 "nbformat_minor": 2
}
